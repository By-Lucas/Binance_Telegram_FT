{
 "cells": [
  {
   "cell_type": "code",
   "execution_count": 20,
   "metadata": {},
   "outputs": [],
   "source": [
    "# import Libraries\n",
    "from binance.spot import Spot as Client\n",
    "\n",
    "# keep these secret on your real accounts!\n",
    "api_key = 'oYiRMlgbrkTxEbnsHlrZ976v18emLfjcy81mX1GnU0wJVudCIK3PeElxLsxpEeVc'\n",
    "secret_key = 'pVMZVVTcSCQZsRnYxsjeVWEMWBCHYFioTnnFrLjHYs0TE1mHP1CaCUP8nQW9seCw'\n",
    "\n",
    "# url to access binance api\n",
    "#base_url = \"https://api.binance.com\"\n",
    "\n",
    "# use for testing\n",
    "base_url_test = \"https://testnet.binance.vision\" \n",
    "\n",
    "# create Client to access API\n",
    "client = Client(api_key, secret_key, base_url=base_url_test)"
   ]
  },
  {
   "cell_type": "code",
   "execution_count": 21,
   "metadata": {},
   "outputs": [
    {
     "ename": "ClientError",
     "evalue": "(401, '{\"code\":-2015,\"msg\":\"Invalid API-key, IP, or permissions for action.\"}', {'Content-Type': 'application/json;charset=UTF-8', 'Content-Length': '70', 'Connection': 'keep-alive', 'Date': 'Thu, 04 Aug 2022 22:44:26 GMT', 'Server': 'nginx', 'x-mbx-uuid': '2bf460cb-d9aa-421a-9e46-896706dc7d8c', 'x-mbx-used-weight': '10', 'x-mbx-used-weight-1m': '10', 'Strict-Transport-Security': 'max-age=31536000; includeSubdomains', 'X-Frame-Options': 'SAMEORIGIN', 'X-Xss-Protection': '1; mode=block', 'X-Content-Type-Options': 'nosniff', 'Content-Security-Policy': \"default-src 'self'\", 'X-Content-Security-Policy': \"default-src 'self'\", 'X-WebKit-CSP': \"default-src 'self'\", 'Cache-Control': 'no-cache, no-store, must-revalidate', 'Pragma': 'no-cache', 'Expires': '0', 'X-Cache': 'Error from cloudfront', 'Via': '1.1 ef4d11b9c741bea359112b2ca9c41dc6.cloudfront.net (CloudFront)', 'X-Amz-Cf-Pop': 'GRU3-C1', 'X-Amz-Cf-Id': '8bA6AWL2Hm-f8qKKv2HE2LMV0lIWZnTJ9tAtnqxIa3fEE-mx6m8EDw=='})",
     "output_type": "error",
     "traceback": [
      "\u001b[1;31m---------------------------------------------------------------------------\u001b[0m",
      "\u001b[1;31mClientError\u001b[0m                               Traceback (most recent call last)",
      "\u001b[1;32md:\\4 PROJETOS PESSOAL\\2 Projetos Desktop\\3 Telegram binance Ft\\Binance_Telegram_FT\\binance_trade.ipynb Célula: 2\u001b[0m in \u001b[0;36m<cell line: 1>\u001b[1;34m()\u001b[0m\n\u001b[1;32m----> <a href='vscode-notebook-cell:/d%3A/4%20PROJETOS%20PESSOAL/2%20Projetos%20Desktop/3%20Telegram%20binance%20Ft/Binance_Telegram_FT/binance_trade.ipynb#W1sZmlsZQ%3D%3D?line=0'>1</a>\u001b[0m client\u001b[39m.\u001b[39;49maccount()\n",
      "File \u001b[1;32md:\\4 PROJETOS PESSOAL\\2 Projetos Desktop\\3 Telegram binance Ft\\Binance_Telegram_FT\\venv\\lib\\site-packages\\binance\\spot\\apis.py:413\u001b[0m, in \u001b[0;36maccount\u001b[1;34m(self, **kwargs)\u001b[0m\n\u001b[0;32m    403\u001b[0m \u001b[39m\"\"\" Account Information (USER_DATA)\u001b[39;00m\n\u001b[0;32m    404\u001b[0m \n\u001b[0;32m    405\u001b[0m \u001b[39mGet current account information\u001b[39;00m\n\u001b[1;32m   (...)\u001b[0m\n\u001b[0;32m    409\u001b[0m \u001b[39mhttps://binance-docs.github.io/apidocs/spot/en/#account-information-user_data\u001b[39;00m\n\u001b[0;32m    410\u001b[0m \u001b[39m\"\"\"\u001b[39;00m\n\u001b[0;32m    412\u001b[0m url_path \u001b[39m=\u001b[39m \u001b[39m'\u001b[39m\u001b[39m/api/v3/account\u001b[39m\u001b[39m'\u001b[39m\n\u001b[1;32m--> 413\u001b[0m \u001b[39mreturn\u001b[39;00m \u001b[39mself\u001b[39;49m\u001b[39m.\u001b[39;49msign_request(\u001b[39m'\u001b[39;49m\u001b[39mGET\u001b[39;49m\u001b[39m'\u001b[39;49m, url_path, {\u001b[39m*\u001b[39;49m\u001b[39m*\u001b[39;49mkwargs})\n",
      "File \u001b[1;32md:\\4 PROJETOS PESSOAL\\2 Projetos Desktop\\3 Telegram binance Ft\\Binance_Telegram_FT\\venv\\lib\\site-packages\\binance\\api.py:70\u001b[0m, in \u001b[0;36mAPI.sign_request\u001b[1;34m(self, http_method, url_path, payload)\u001b[0m\n\u001b[0;32m     68\u001b[0m signature \u001b[39m=\u001b[39m \u001b[39mself\u001b[39m\u001b[39m.\u001b[39m_get_sign(query_string)\n\u001b[0;32m     69\u001b[0m payload[\u001b[39m'\u001b[39m\u001b[39msignature\u001b[39m\u001b[39m'\u001b[39m] \u001b[39m=\u001b[39m signature\n\u001b[1;32m---> 70\u001b[0m \u001b[39mreturn\u001b[39;00m \u001b[39mself\u001b[39;49m\u001b[39m.\u001b[39;49msend_request(http_method, url_path, payload)\n",
      "File \u001b[1;32md:\\4 PROJETOS PESSOAL\\2 Projetos Desktop\\3 Telegram binance Ft\\Binance_Telegram_FT\\venv\\lib\\site-packages\\binance\\api.py:98\u001b[0m, in \u001b[0;36mAPI.send_request\u001b[1;34m(self, http_method, url_path, payload)\u001b[0m\n\u001b[0;32m     96\u001b[0m response \u001b[39m=\u001b[39m \u001b[39mself\u001b[39m\u001b[39m.\u001b[39m_dispatch_request(http_method)(\u001b[39m*\u001b[39m\u001b[39m*\u001b[39mparams)\n\u001b[0;32m     97\u001b[0m logging\u001b[39m.\u001b[39mdebug(\u001b[39m'\u001b[39m\u001b[39mraw response from server:\u001b[39m\u001b[39m'\u001b[39m \u001b[39m+\u001b[39m response\u001b[39m.\u001b[39mtext)\n\u001b[1;32m---> 98\u001b[0m \u001b[39mself\u001b[39;49m\u001b[39m.\u001b[39;49m_handle_exception(response)\n\u001b[0;32m    100\u001b[0m \u001b[39mtry\u001b[39;00m:\n\u001b[0;32m    101\u001b[0m     data \u001b[39m=\u001b[39m response\u001b[39m.\u001b[39mjson()\n",
      "File \u001b[1;32md:\\4 PROJETOS PESSOAL\\2 Projetos Desktop\\3 Telegram binance Ft\\Binance_Telegram_FT\\venv\\lib\\site-packages\\binance\\api.py:145\u001b[0m, in \u001b[0;36mAPI._handle_exception\u001b[1;34m(self, response)\u001b[0m\n\u001b[0;32m    143\u001b[0m     \u001b[39mreturn\u001b[39;00m\n\u001b[0;32m    144\u001b[0m \u001b[39mif\u001b[39;00m \u001b[39m400\u001b[39m \u001b[39m<\u001b[39m\u001b[39m=\u001b[39m status_code \u001b[39m<\u001b[39m \u001b[39m500\u001b[39m:\n\u001b[1;32m--> 145\u001b[0m     \u001b[39mraise\u001b[39;00m ClientError(status_code, response\u001b[39m.\u001b[39mtext, response\u001b[39m.\u001b[39mheaders)\n\u001b[0;32m    146\u001b[0m \u001b[39mraise\u001b[39;00m ServerError(status_code, response\u001b[39m.\u001b[39mtext)\n",
      "\u001b[1;31mClientError\u001b[0m: (401, '{\"code\":-2015,\"msg\":\"Invalid API-key, IP, or permissions for action.\"}', {'Content-Type': 'application/json;charset=UTF-8', 'Content-Length': '70', 'Connection': 'keep-alive', 'Date': 'Thu, 04 Aug 2022 22:44:26 GMT', 'Server': 'nginx', 'x-mbx-uuid': '2bf460cb-d9aa-421a-9e46-896706dc7d8c', 'x-mbx-used-weight': '10', 'x-mbx-used-weight-1m': '10', 'Strict-Transport-Security': 'max-age=31536000; includeSubdomains', 'X-Frame-Options': 'SAMEORIGIN', 'X-Xss-Protection': '1; mode=block', 'X-Content-Type-Options': 'nosniff', 'Content-Security-Policy': \"default-src 'self'\", 'X-Content-Security-Policy': \"default-src 'self'\", 'X-WebKit-CSP': \"default-src 'self'\", 'Cache-Control': 'no-cache, no-store, must-revalidate', 'Pragma': 'no-cache', 'Expires': '0', 'X-Cache': 'Error from cloudfront', 'Via': '1.1 ef4d11b9c741bea359112b2ca9c41dc6.cloudfront.net (CloudFront)', 'X-Amz-Cf-Pop': 'GRU3-C1', 'X-Amz-Cf-Id': '8bA6AWL2Hm-f8qKKv2HE2LMV0lIWZnTJ9tAtnqxIa3fEE-mx6m8EDw=='})"
     ]
    }
   ],
   "source": [
    "client.account()"
   ]
  },
  {
   "cell_type": "code",
   "execution_count": null,
   "metadata": {},
   "outputs": [
    {
     "data": {
      "text/plain": [
       "{'symbol': 'BTCUSDT',\n",
       " 'orderId': 2096216,\n",
       " 'orderListId': -1,\n",
       " 'clientOrderId': 'GKqL3bfCtGD3UFJWnuUYhn',\n",
       " 'transactTime': 1638999183909,\n",
       " 'price': '0.00000000',\n",
       " 'origQty': '0.00200000',\n",
       " 'executedQty': '0.00200000',\n",
       " 'cummulativeQuoteQty': '101.00704000',\n",
       " 'status': 'FILLED',\n",
       " 'timeInForce': 'GTC',\n",
       " 'type': 'MARKET',\n",
       " 'side': 'BUY',\n",
       " 'fills': [{'price': '50503.52000000',\n",
       "   'qty': '0.00200000',\n",
       "   'commission': '0.00000000',\n",
       "   'commissionAsset': 'BTC',\n",
       "   'tradeId': 507870}]}"
      ]
     },
     "execution_count": 16,
     "metadata": {},
     "output_type": "execute_result"
    }
   ],
   "source": [
    "# market order\n",
    "params = {\n",
    "    \"symbol\": \"BTCUSDT\",\n",
    "    \"side\": \"BUY\",\n",
    "    \"type\": \"MARKET\",\n",
    "    \"quantity\": 0.002,\n",
    "}\n",
    "\n",
    "response = client.new_order(**params)\n",
    "response"
   ]
  },
  {
   "cell_type": "code",
   "execution_count": null,
   "metadata": {},
   "outputs": [
    {
     "data": {
      "text/plain": [
       "{'symbol': 'BTCUSDT',\n",
       " 'orderId': 2086535,\n",
       " 'orderListId': -1,\n",
       " 'clientOrderId': 'PAHXV1krMyEBtLPZrPt8Mr',\n",
       " 'transactTime': 1638996931531,\n",
       " 'price': '30000.00000000',\n",
       " 'origQty': '0.00200000',\n",
       " 'executedQty': '0.00000000',\n",
       " 'cummulativeQuoteQty': '0.00000000',\n",
       " 'status': 'NEW',\n",
       " 'timeInForce': 'GTC',\n",
       " 'type': 'LIMIT',\n",
       " 'side': 'BUY',\n",
       " 'fills': []}"
      ]
     },
     "execution_count": 8,
     "metadata": {},
     "output_type": "execute_result"
    }
   ],
   "source": [
    "# limit order\n",
    "params = {\n",
    "    \"symbol\": \"BTCUSDT\",\n",
    "    \"side\": \"BUY\",\n",
    "    \"type\": \"LIMIT\",\n",
    "    \"timeInForce\": \"GTC\",\n",
    "    \"quantity\": 0.002,\n",
    "    \"price\": 30000,\n",
    "}\n",
    "\n",
    "response = client.new_order(**params)\n",
    "response"
   ]
  },
  {
   "cell_type": "code",
   "execution_count": null,
   "metadata": {},
   "outputs": [
    {
     "data": {
      "text/plain": [
       "[{'symbol': 'BTCUSDT',\n",
       "  'orderId': 2086535,\n",
       "  'orderListId': -1,\n",
       "  'clientOrderId': 'PAHXV1krMyEBtLPZrPt8Mr',\n",
       "  'price': '30000.00000000',\n",
       "  'origQty': '0.00200000',\n",
       "  'executedQty': '0.00000000',\n",
       "  'cummulativeQuoteQty': '0.00000000',\n",
       "  'status': 'NEW',\n",
       "  'timeInForce': 'GTC',\n",
       "  'type': 'LIMIT',\n",
       "  'side': 'BUY',\n",
       "  'stopPrice': '0.00000000',\n",
       "  'icebergQty': '0.00000000',\n",
       "  'time': 1638996931531,\n",
       "  'updateTime': 1638996931531,\n",
       "  'isWorking': True,\n",
       "  'origQuoteOrderQty': '0.00000000'}]"
      ]
     },
     "execution_count": 17,
     "metadata": {},
     "output_type": "execute_result"
    }
   ],
   "source": [
    "# get open orders\n",
    "response = client.get_open_orders()\n",
    "response"
   ]
  },
  {
   "cell_type": "code",
   "execution_count": null,
   "metadata": {},
   "outputs": [
    {
     "data": {
      "text/plain": [
       "[{'symbol': 'BTCUSDT',\n",
       "  'id': 506475,\n",
       "  'orderId': 2086312,\n",
       "  'orderListId': -1,\n",
       "  'price': '50799.11000000',\n",
       "  'qty': '0.00200000',\n",
       "  'quoteQty': '101.59822000',\n",
       "  'commission': '0.00000000',\n",
       "  'commissionAsset': 'USDT',\n",
       "  'time': 1638996888973,\n",
       "  'isBuyer': False,\n",
       "  'isMaker': False,\n",
       "  'isBestMatch': True},\n",
       " {'symbol': 'BTCUSDT',\n",
       "  'id': 506761,\n",
       "  'orderId': 2087806,\n",
       "  'orderListId': -1,\n",
       "  'price': '50699.99000000',\n",
       "  'qty': '0.00200000',\n",
       "  'quoteQty': '101.39998000',\n",
       "  'commission': '0.00000000',\n",
       "  'commissionAsset': 'USDT',\n",
       "  'time': 1638997206780,\n",
       "  'isBuyer': False,\n",
       "  'isMaker': False,\n",
       "  'isBestMatch': True}]"
      ]
     },
     "execution_count": 14,
     "metadata": {},
     "output_type": "execute_result"
    }
   ],
   "source": [
    "client.my_trades(\"BTCUSDT\")"
   ]
  },
  {
   "cell_type": "code",
   "execution_count": null,
   "metadata": {},
   "outputs": [],
   "source": []
  }
 ],
 "metadata": {
  "kernelspec": {
   "display_name": "Python 3.9.0 ('venv': venv)",
   "language": "python",
   "name": "python3"
  },
  "language_info": {
   "codemirror_mode": {
    "name": "ipython",
    "version": 3
   },
   "file_extension": ".py",
   "mimetype": "text/x-python",
   "name": "python",
   "nbconvert_exporter": "python",
   "pygments_lexer": "ipython3",
   "version": "3.9.0"
  },
  "vscode": {
   "interpreter": {
    "hash": "f5bfca26fde7cac01c85978fce532e5ba1fc4079ceba043e4d8b774d0a27f463"
   }
  }
 },
 "nbformat": 4,
 "nbformat_minor": 4
}
